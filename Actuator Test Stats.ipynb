{
  "nbformat": 4,
  "nbformat_minor": 0,
  "metadata": {
    "colab": {
      "provenance": [],
      "authorship_tag": "ABX9TyMFRHDtzTSR3jd9il7iAYSi",
      "include_colab_link": true
    },
    "kernelspec": {
      "name": "python3",
      "display_name": "Python 3"
    },
    "language_info": {
      "name": "python"
    }
  },
  "cells": [
    {
      "cell_type": "markdown",
      "metadata": {
        "id": "view-in-github",
        "colab_type": "text"
      },
      "source": [
        "<a href=\"https://colab.research.google.com/github/LiamSwick/Actuator-Scripts/blob/main/Actuator%20Test%20Stats.ipynb\" target=\"_parent\"><img src=\"https://colab.research.google.com/assets/colab-badge.svg\" alt=\"Open In Colab\"/></a>"
      ]
    },
    {
      "cell_type": "code",
      "execution_count": 12,
      "metadata": {
        "id": "4yzPdSDYnh6L"
      },
      "outputs": [],
      "source": [
        "from google.colab import drive # Import libraries we will use\n",
        "import pandas as pd\n",
        "import numpy as np\n",
        "from sklearn.linear_model import LinearRegression"
      ]
    },
    {
      "cell_type": "code",
      "source": [
        "def get_torque_specs(path, w):\n",
        "  \"\"\"\n",
        "  Function will take in a string of the google drive file path of\n",
        "  the csv file and a rpm value. It will print out key statistics for the\n",
        "  dataframe given the specified rpm.\n",
        "  Arugments: path - string of file path\n",
        "             w - rpm value\n",
        "  Returns: NA\n",
        "  \"\"\"\n",
        "  drive.mount('/content/drive')                        # These commands allow us to access files from google drive\n",
        "  df = pd.read_csv(f'/content/drive/MyDrive/{path}', sep=';')  # Read csv into a data frame\n",
        "\n",
        "  df_copy = df.copy()                                          # Make a view so we don't lose any of the original data\n",
        "  df_copy = df_copy.drop(columns=['Unnamed: 4', 'Time (s).1']) # Drop unneeded columns\n",
        "\n",
        "\n",
        "  w_mask = df['Velocity demand value [rpm]'] == w\n",
        "  avg_torque = df[w_mask].mean()\n",
        "  sd_torque = df[w_mask].std()\n",
        "\n",
        "  if w < 0:                     # Adjusting the 'max' value if rpms/torque is negative\n",
        "    max_torque = df[w_mask].min()\n",
        "  else:\n",
        "    max_torque = df[w_mask].max()\n",
        "\n",
        "  print(\"The specified rpm is: \", w)\n",
        "  print(f\"The average torque is: {avg_torque.iloc[1]: 0.2f} +/- {sd_torque.iloc[1]:0.2f}\")\n",
        "  print(f\"The maximum torque is: {max_torque.iloc[1]:0.2f}\")\n",
        "  print(f\"The standard error in the mean is: {sd_torque.iloc[1]/np.sqrt(len(df[w_mask])):0.2f}\")\n",
        "  print(\" \")\n",
        "  return"
      ],
      "metadata": {
        "id": "aBrPn8qBnxGL"
      },
      "execution_count": 20,
      "outputs": []
    },
    {
      "cell_type": "code",
      "source": [
        "file_name = \"C27-3000N.csv\"\n",
        "get_torque_specs(file_name, 3000) # Positive torque values\n",
        "get_torque_specs(file_name, -3000) # Negative torque values"
      ],
      "metadata": {
        "colab": {
          "base_uri": "https://localhost:8080/"
        },
        "id": "AEgEP3-En8mh",
        "outputId": "d5c1c973-af96-4437-ca25-f7819dec5a41"
      },
      "execution_count": 21,
      "outputs": [
        {
          "output_type": "stream",
          "name": "stdout",
          "text": [
            "Drive already mounted at /content/drive; to attempt to forcibly remount, call drive.mount(\"/content/drive\", force_remount=True).\n",
            "The specified rpm is:  3000\n",
            "The average torque is:  421.24 +/- 22.46\n",
            "The maximum torque is: 476.00\n",
            "The standard error in the mean is: 0.69\n",
            " \n",
            "Drive already mounted at /content/drive; to attempt to forcibly remount, call drive.mount(\"/content/drive\", force_remount=True).\n",
            "The specified rpm is:  -3000\n",
            "The average torque is: -210.06 +/- 22.03\n",
            "The maximum torque is: -271.00\n",
            "The standard error in the mean is: 0.64\n",
            " \n"
          ]
        }
      ]
    },
    {
      "cell_type": "code",
      "source": [],
      "metadata": {
        "id": "WYEs0Kii0DOo"
      },
      "execution_count": null,
      "outputs": []
    }
  ]
}